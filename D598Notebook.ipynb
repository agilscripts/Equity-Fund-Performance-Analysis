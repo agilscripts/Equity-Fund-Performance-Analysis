{
 "cells": [
  {
   "cell_type": "code",
   "execution_count": 1,
   "id": "aa566fc4-44c5-46ff-a7f6-38e0c2fff01f",
   "metadata": {},
   "outputs": [],
   "source": [
    "import pandas as pd\n",
    "import numpy as np"
   ]
  },
  {
   "cell_type": "code",
   "execution_count": 4,
   "id": "12fa8ffd-8bc2-4d19-88dc-effb5a19c4a8",
   "metadata": {},
   "outputs": [],
   "source": [
    "# Load dataset from the Desktop\n",
    "df = pd.read_excel('/Users/audrey/Desktop/D598 Data Set.xlsx')"
   ]
  },
  {
   "cell_type": "code",
   "execution_count": 5,
   "id": "0926411f-5073-4bde-8a08-33675b7bef1d",
   "metadata": {},
   "outputs": [
    {
     "name": "stdout",
     "output_type": "stream",
     "text": [
      "Number of duplicate rows: 0\n"
     ]
    }
   ],
   "source": [
    "# Check for duplicates\n",
    "duplicates = df[df.duplicated()]\n",
    "print(f\"Number of duplicate rows: {duplicates.shape[0]}\")\n",
    "\n",
    "# If you want to remove them\n",
    "df = df.drop_duplicates()"
   ]
  },
  {
   "cell_type": "code",
   "execution_count": 7,
   "id": "13800c68-4f21-44c1-a3de-31f373dd3cbd",
   "metadata": {},
   "outputs": [],
   "source": [
    "# Group by 'Business State' and calculate descriptive statistics\n",
    "grouped_df = df.groupby('Business State').agg({\n",
    "    'Total Long-term Debt': ['mean', 'median', 'min', 'max'],\n",
    "    'Total Equity': ['mean', 'median', 'min', 'max'],\n",
    "    'Debt to Equity': ['mean', 'median', 'min', 'max'],\n",
    "    'Total Liabilities': ['mean', 'median', 'min', 'max'],\n",
    "    'Total Revenue': ['mean', 'median', 'min', 'max'],\n",
    "    'Profit Margin': ['mean', 'median', 'min', 'max'],\n",
    "})\n",
    "\n",
    "# Save the grouped data to a new Excel file\n",
    "grouped_df.to_excel('/Users/audrey/Desktop/grouped_statistics.xlsx')"
   ]
  },
  {
   "cell_type": "code",
   "execution_count": 8,
   "id": "5747c0c9-a4b0-4582-8711-b290a3fd0d59",
   "metadata": {},
   "outputs": [],
   "source": [
    "# Filter businesses with negative debt-to-equity ratios\n",
    "negative_debt_equity = df[df['Debt to Equity'] < 0]\n",
    "\n",
    "# Save the filtered data to an Excel file\n",
    "negative_debt_equity.to_excel('/Users/audrey/Desktop/negative_debt_equity.xlsx', index=False)"
   ]
  },
  {
   "cell_type": "code",
   "execution_count": 9,
   "id": "87347052-0952-4d40-95fb-b16fec9cdc37",
   "metadata": {},
   "outputs": [],
   "source": [
    "# Create a new column for debt-to-income ratio\n",
    "df['Debt to Income Ratio'] = df['Total Long-term Debt'] / df['Total Revenue']\n",
    "\n",
    "# Save this updated DataFrame with the new column\n",
    "df.to_excel('/Users/audrey/Desktop/updated_with_debt_to_income.xlsx', index=False)"
   ]
  },
  {
   "cell_type": "code",
   "execution_count": null,
   "id": "a99c7105-47e2-4769-9c0b-3e3da033c3ac",
   "metadata": {},
   "outputs": [],
   "source": []
  }
 ],
 "metadata": {
  "kernelspec": {
   "display_name": "Python 3 (ipykernel)",
   "language": "python",
   "name": "python3"
  },
  "language_info": {
   "codemirror_mode": {
    "name": "ipython",
    "version": 3
   },
   "file_extension": ".py",
   "mimetype": "text/x-python",
   "name": "python",
   "nbconvert_exporter": "python",
   "pygments_lexer": "ipython3",
   "version": "3.12.4"
  }
 },
 "nbformat": 4,
 "nbformat_minor": 5
}
